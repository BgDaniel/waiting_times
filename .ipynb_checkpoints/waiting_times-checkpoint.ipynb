{
 "cells": [
  {
   "cell_type": "code",
   "execution_count": 26,
   "metadata": {},
   "outputs": [
    {
     "name": "stdout",
     "output_type": "stream",
     "text": [
      "[[0.9 0.  0.  0.  0.9 0.  0. ]\n",
      " [0.1 0.  0.  0.  0.1 0.  0. ]\n",
      " [0.  0.9 0.  0.  0.  0.9 0. ]\n",
      " [0.  0.1 0.  0.  0.  0.1 0. ]\n",
      " [0.  0.  0.9 0.  0.  0.  0.9]\n",
      " [0.  0.  0.1 0.  0.  0.  0.1]\n",
      " [0.  0.  0.  0.9 0.  0.  0. ]]\n",
      "[[811.9 801.9 810.  729.  810.9 801.9 810. ]\n",
      " [ 90.1  90.1  90.   81.   90.1  89.1  90. ]\n",
      " [ 90.   90.   91.   81.   90.   90.   90. ]\n",
      " [ 10.   10.   10.   10.   10.   10.   10. ]\n",
      " [ 89.1  89.1  90.   81.   90.1  89.1  90. ]\n",
      " [  9.9   9.9  10.    9.    9.9  10.9  10. ]\n",
      " [  9.    9.    9.    9.    9.    9.   10. ]]\n"
     ]
    }
   ],
   "source": [
    "import math\n",
    "import numpy as np\n",
    "import matplotlib.pyplot as plt\n",
    "from numpy import linalg\n",
    "from numpy.linalg import inv\n",
    "\n",
    "ell = 3\n",
    "N = 2**ell-1\n",
    "p = .9\n",
    "q = 1 - p\n",
    "\n",
    "A = np.zeros((N, N))\n",
    "\n",
    "for i in range(0, N):\n",
    "    for j in range(0, N):\n",
    "        if i == 2 * j or i == 2 * (j - 2**(ell-1)):\n",
    "            A[i][j] = .9\n",
    "        if i == 2 * j + 1 or i == 2 * (j - 2**(ell-1)) + 1:\n",
    "            A[i][j] = q\n",
    "            \n",
    "print(A)\n",
    "\n",
    "eigen_values, eigen_vectors = linalg.eig(A)\n",
    "\n",
    "'''\n",
    "for i in range(0, N):\n",
    "    print(\"Eigenvalue: {0}\".format(eigen_values[i]))\n",
    "    print(\"Eigenvector: {0}\".format(eigen_vectors[i]))\n",
    "'''\n",
    "    \n",
    "Id = np.identity(N)  \n",
    "B = inv(Id - A)\n",
    "print(B)"
   ]
  },
  {
   "cell_type": "code",
   "execution_count": null,
   "metadata": {},
   "outputs": [],
   "source": [
    "Cumulative Distribution"
   ]
  },
  {
   "cell_type": "code",
   "execution_count": 7,
   "metadata": {},
   "outputs": [
    {
     "name": "stdout",
     "output_type": "stream",
     "text": [
      "[0.6561 0.0729 0.0729 0.0081 0.0729 0.0081 0.0081 0.0009 0.0729 0.0081\n",
      " 0.0081 0.0009 0.0081 0.0009 0.0009] 15 0.00010000000000010001\n"
     ]
    },
    {
     "data": {
      "image/png": "[encoded data removed]",
      "text/plain": [
       "<Figure size 432x288 with 1 Axes>"
      ]
     },
     "metadata": {
      "needs_background": "light"
     },
     "output_type": "display_data"
    },
    {
     "name": "stdout",
     "output_type": "stream",
     "text": [
      "[0. 0. 0. ... 0. 0. 0.]\n"
     ]
    }
   ],
   "source": [
    "p0 = np.zeros((N))\n",
    "\n",
    "for i in range(0, N):\n",
    "    bin_repr = \"{0:b}\".format(i)\n",
    "    k = bin_repr.count('1')\n",
    "    p0[i] = (q**k) * (p**(ell-k))\n",
    "       \n",
    "print(p0, N, 1 - np.sum(p0))\n",
    "\n",
    "M = 50000\n",
    "\n",
    "Distribution = np.zeros((M))\n",
    "Distribution[ell-1] = 1 - np.sum(p0)\n",
    "p_next = np.dot(A,p0)\n",
    "\n",
    "for i in range(ell,M-ell+1):\n",
    "    Distribution[i] = 1 - np.sum(p_next)\n",
    "    p_next = np.dot(A, p_next)\n",
    "  \n",
    "y_pos = np.arange(M)\n",
    "plt.bar(y_pos, Distribution, align='center', alpha=0.6)\n",
    "plt.ylabel('Cumulative Distribution')\n",
    "plt.show()\n",
    "\n",
    "print(Distribution)"
   ]
  },
  {
   "cell_type": "markdown",
   "metadata": {},
   "source": [
    "Distribution"
   ]
  },
  {
   "cell_type": "code",
   "execution_count": 18,
   "metadata": {},
   "outputs": [
    {
     "name": "stdout",
     "output_type": "stream",
     "text": [
      "[0.81 0.09 0.09] 3 0.010000000000000009\n"
     ]
    },
    {
     "data": {
      "image/png": "[encoded data removed]",
      "text/plain": [
       "<Figure size 432x288 with 1 Axes>"
      ]
     },
     "metadata": {
      "needs_background": "light"
     },
     "output_type": "display_data"
    },
    {
     "name": "stdout",
     "output_type": "stream",
     "text": [
      "[0.00000000e+00 1.00000000e-02 9.00000000e-03 ... 9.51832270e-11\n",
      " 9.43106529e-11 9.34460781e-11] 0.9999999899000427\n"
     ]
    }
   ],
   "source": [
    "p0 = np.zeros((N))\n",
    "\n",
    "for i in range(0, N):\n",
    "    bin_repr = \"{0:b}\".format(i)\n",
    "    k = bin_repr.count('1')\n",
    "    p0[i] = (q**k) * (p**(ell-k))\n",
    "       \n",
    "print(p0, N, 1- np.sum(p0))\n",
    "\n",
    "M = 2000\n",
    "distribution = np.zeros((M))\n",
    "distribution[ell-1] = 1 - np.sum(p0)\n",
    "\n",
    "p_next = np.dot(Id-A,p0)\n",
    "\n",
    "for i in range(ell,M):\n",
    "    distribution[i] = np.sum(p_next)\n",
    "    p_next = np.dot(A, p_next)\n",
    "  \n",
    "y_pos = np.arange(len(distribution))\n",
    "plt.plot(distribution, color='red', label='Distribution')\n",
    "plt.ylabel('Distribution')\n",
    "plt.ylim((.0, 1.1 * np.max(distribution)))\n",
    "plt.show()\n",
    "\n",
    "\n",
    "print(distribution, np.sum(distribution))   "
   ]
  },
  {
   "cell_type": "markdown",
   "metadata": {},
   "source": [
    "Mean"
   ]
  },
  {
   "cell_type": "code",
   "execution_count": 19,
   "metadata": {},
   "outputs": [
    {
     "name": "stdout",
     "output_type": "stream",
     "text": [
      "109.9999786983488\n"
     ]
    }
   ],
   "source": [
    "mean = 0\n",
    "\n",
    "for i in range(0,M):\n",
    "    mean += (i+1) * distribution[i]\n",
    "    \n",
    "print(mean)"
   ]
  },
  {
   "cell_type": "code",
   "execution_count": 21,
   "metadata": {},
   "outputs": [
    {
     "name": "stdout",
     "output_type": "stream",
     "text": [
      "1105.897 109.9999786983488\n"
     ]
    },
    {
     "data": {
      "image/png": "[encoded data removed]",
      "text/plain": [
       "<Figure size 432x288 with 1 Axes>"
      ]
     },
     "metadata": {
      "needs_background": "light"
     },
     "output_type": "display_data"
    }
   ],
   "source": [
    "import random as rnd\n",
    "\n",
    "def waiting_time(sequence):\n",
    "    l = len(sequence)\n",
    "    samples = []\n",
    "    \n",
    "    def _rand():\n",
    "        if rnd.uniform(0, 1) <= p:\n",
    "            return 0\n",
    "        else:\n",
    "            return 1\n",
    "    \n",
    "    for i in range(0, l):\n",
    "        samples.append(_rand())\n",
    "        \n",
    "    counter = 0\n",
    "    i = 2\n",
    "        \n",
    "    while counter < l:\n",
    "        success = np.array([False for i in range(0, l)])\n",
    "                \n",
    "        for k in range(0, l): \n",
    "            if samples[len(samples) - k - 1] == 1:\n",
    "                success[k] = True\n",
    "          \n",
    "        if np.sum(success) == l:\n",
    "            return i\n",
    "        else:\n",
    "            i += 1\n",
    "            samples.append(_rand())\n",
    "            \n",
    "\n",
    "nb_samples = 10000           \n",
    "samples = np.array([waiting_time([1, 1, 1]) for i in range(0,nb_samples)])\n",
    "\n",
    "mean_emp = np.mean(samples)\n",
    "\n",
    "print(mean_emp, mean)\n",
    "\n",
    "\n",
    "def ecdf(data):\n",
    "    x = np.sort(data)\n",
    "    n = x.size\n",
    "    y = np.arange(1, n+1) / n\n",
    "    return(x,y)\n",
    " \n",
    "x,y = ecdf(samples)\n",
    "plt.scatter(x=x, y=y)\n",
    "plt.show()\n",
    "    "
   ]
  },
  {
   "cell_type": "markdown",
   "metadata": {},
   "source": [
    "Theoretical mean waiting time"
   ]
  },
  {
   "cell_type": "code",
   "execution_count": 24,
   "metadata": {},
   "outputs": [
    {
     "name": "stdout",
     "output_type": "stream",
     "text": [
      "110.00000000000003\n"
     ]
    }
   ],
   "source": [
    "B = inv(Id - A)\n",
    "mean_theo = ell + np.sum(p0 + np.dot(A,np.dot(B, p0)))\n",
    "\n",
    "print(mean_theo)"
   ]
  },
  {
   "cell_type": "code",
   "execution_count": 27,
   "metadata": {},
   "outputs": [
    {
     "name": "stdout",
     "output_type": "stream",
     "text": [
      "[[811.9 801.9 810.  729.  810.9 801.9 810. ]\n",
      " [ 90.1  90.1  90.   81.   90.1  89.1  90. ]\n",
      " [ 90.   90.   91.   81.   90.   90.   90. ]\n",
      " [ 10.   10.   10.   10.   10.   10.   10. ]\n",
      " [ 89.1  89.1  90.   81.   90.1  89.1  90. ]\n",
      " [  9.9   9.9  10.    9.    9.9  10.9  10. ]\n",
      " [  9.    9.    9.    9.    9.    9.   10. ]]\n"
     ]
    }
   ],
   "source": [
    "print(Id + np.dot(A,B))"
   ]
  },
  {
   "cell_type": "code",
   "execution_count": null,
   "metadata": {},
   "outputs": [],
   "source": []
  }
 ],
 "metadata": {
  "kernelspec": {
   "display_name": "Python 3",
   "language": "python",
   "name": "python3"
  },
  "language_info": {
   "codemirror_mode": {
    "name": "ipython",
    "version": 3
   },
   "file_extension": ".py",
   "mimetype": "text/x-python",
   "name": "python",
   "nbconvert_exporter": "python",
   "pygments_lexer": "ipython3",
   "version": "3.8.3"
  }
 },
 "nbformat": 4,
 "nbformat_minor": 4
}
